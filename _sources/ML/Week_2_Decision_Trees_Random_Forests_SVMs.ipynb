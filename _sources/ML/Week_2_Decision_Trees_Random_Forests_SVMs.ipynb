{
  "nbformat": 4,
  "nbformat_minor": 0,
  "metadata": {
    "colab": {
      "provenance": [],
      "include_colab_link": true
    },
    "kernelspec": {
      "name": "python3",
      "display_name": "Python 3"
    },
    "language_info": {
      "name": "python"
    }
  },
  "cells": [
    {
      "cell_type": "markdown",
      "metadata": {
        "id": "view-in-github",
        "colab_type": "text"
      },
      "source": [
        "<a href=\"https://colab.research.google.com/github/tbeucler/2023_MLEES_JB/blob/main/ML_EES/ML/Week_2_Decision_Trees_Random_Forests_SVMs.ipynb\" target=\"_parent\"><img src=\"https://colab.research.google.com/assets/colab-badge.svg\" alt=\"Open In Colab\"/></a>"
      ]
    },
    {
      "cell_type": "markdown",
      "source": [
        "# Decision Trees, Random Forests, Support Vector Machines and Environmental Risk Analysis"
      ],
      "metadata": {
        "id": "jobt71avnVPS"
      }
    },
    {
      "cell_type": "markdown",
      "source": [
        "In this chapter, the learning objectives are:\n",
        "\n",
        "1.    Training and benchmarking different types of support vector machines for classification and regression purposes,\n",
        "\n",
        "2.    Training, fine-tuning, and benchmarking decision trees and random forests for classification purposes,\n",
        "\n",
        "3.    Applying these classification algorithms to map wildfire risk in Italy using historical data of wildfire occurence."
      ],
      "metadata": {
        "id": "5NmnSWj5oAAT"
      }
    },
    {
      "cell_type": "markdown",
      "source": [
        "Today's tutorial:\n",
        "\n",
        "1.    Adapts Géron et al.'s Jupyter notebook exercises for chapters [5](https://github.com/ageron/handson-ml2/blob/master/05_support_vector_machines.ipynb), [6](https://github.com/ageron/handson-ml2/blob/master/06_decision_trees.ipynb), and [7](https://github.com/ageron/handson-ml2/blob/master/07_ensemble_learning_and_random_forests.ipynb) [(License)](https://github.com/ageron/handson-ml2/blob/master/LICENSE) of his book [\"Hands-On Machine Learning with Scikit-Learn, Keras, and TensorFlow, 2nd Edition\"](https://www.oreilly.com/library/view/hands-on-machine-learning/9781492032632/),\n",
        "\n",
        "2.    Adapts two articles on wildfire susceptibility mapping from [Tonini et al.](https://www.mdpi.com/2076-3263/10/3/105) and [Trucchia et al.](https://www.mdpi.com/2571-6255/5/1/30), and Python scripts from [Giorgio Meschi](https://www.linkedin.com/in/giorgio-meschi-86216b180/)."
      ],
      "metadata": {
        "id": "ZwIvLOstucNV"
      }
    },
    {
      "cell_type": "markdown",
      "source": [
        "If you are struggling with some of the exercises, do not hesitate to:\n",
        "\n",
        "\n",
        "*   Use a direct Internet search, or [stackoverflow](https://stackoverflow.com/)\n",
        "*   Ask your neighbor(s), the teacher, or the TA for help\n",
        "*   Debug your program, e.g. by following [this tutorial](https://swcarpentry.github.io/python-novice-inflammation/11-debugging/index.html)\n",
        "*   Use assertions, e.g. by following [this tutorial](https://swcarpentry.github.io/python-novice-inflammation/10-defensive/index.html)\n",
        "\n"
      ],
      "metadata": {
        "id": "5kqRUzTLpca0"
      }
    },
    {
      "cell_type": "markdown",
      "source": [
        "If you're done early, consider:\n",
        "\n",
        "\n",
        "*   Trying out the notebook's bonus exercises\n",
        "*   Giving feedback on how to improve this notebook (typos, hints, exercises that may be improved/removed/added, etc.) by messaging the teacher and TA(s) on Moodle\n",
        "*   Working on your final project for this course."
      ],
      "metadata": {
        "id": "Pp_t7AeSARlQ"
      }
    }
  ]
}