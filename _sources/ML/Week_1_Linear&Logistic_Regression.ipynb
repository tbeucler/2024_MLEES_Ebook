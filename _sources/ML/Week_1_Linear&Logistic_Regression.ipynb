{
 "cells": [
  {
   "cell_type": "markdown",
   "metadata": {
    "colab_type": "text",
    "id": "view-in-github"
   },
   "source": [
    "<a href=\"https://colab.research.google.com/github/tbeucler/2023_MLEES_JB/blob/main/ML_EES/ML/Week_1_Linear%26Logistic_Regression.ipynb\" target=\"_parent\"><img src=\"https://colab.research.google.com/assets/colab-badge.svg\" alt=\"Open In Colab\"/></a>"
   ]
  },
  {
   "cell_type": "markdown",
   "metadata": {
    "id": "PseZ1YZJMDB9"
   },
   "source": [
    "# Linear Regression for Regression, Logistic Regression for Classification and Statistical Forecasting\n",
    "\n",
    "In this chapter, our goal is to familiarize ourselves with the use of linear regression for regression problems and logistic regression for classification problems.\n",
    "\n",
    "Our main learning objectives are:\n",
    "\n",
    "1. Become familiar with the terminology used in classification and regression problems  \n",
    "2. Become familiar with some classifiers available in SciKit Learn\n",
    "3. Understand how a machine learning algorithm can be implemented from scratch\n",
    "4. Apply classifier and linear models to environmental science problems\n",
    "\n",
    "Our exercises adapts the notebooks that accompany Géron's [Hands-On Machine Learning with Scikit-Learn, Keras, and TensorFlow](https://www.oreilly.com/library/view/hands-on-machine-learning/9781492032632/), which are available on [GitHub](https://github.com/ageron/handson-ml2), as well as material from Wilks' [Statistical Methods in the Atmospheric Sciences](https://www.elsevier.com/books/statistical-methods-in-the-atmospheric-sciences/wilks/978-0-12-815823-4).\n",
    "\n",
    "We will be relying on Scikit Learn, whose documentation you can find [here](https://scikit-learn.org/stable/user_guide.html), and the notebooks assume that you will run them on Google Colab (Though everything can be run locally! There are only a handful of lines that use Google specific libraries)\n",
    "\n",
    "If you are struggling with some of the exercises, do not hesitate to:\n",
    "\n",
    "\n",
    "*   Use a direct Internet search, or [stackoverflow](https://stackoverflow.com/)\n",
    "*   Ask your neighbor(s), the teacher, or the TA for help\n",
    "*   Debug your program, e.g. by following [this tutorial](https://swcarpentry.github.io/python-novice-inflammation/11-debugging/index.html)\n",
    "*   Use assertions, e.g. by following [this tutorial](https://swcarpentry.github.io/python-novice-inflammation/10-defensive/index.html)"
   ]
  },
  {
   "cell_type": "markdown",
   "metadata": {
    "id": "yz7NneSnYOfT"
   },
   "source": [
    "If you're done early, consider:\n",
    "\n",
    "*   Trying out the notebook's bonus exercises\n",
    "*   Helping students around you if applicable\n",
    "*   Giving feedback on how to improve this notebook (typos, hints, exercises that may be improved/removed/added, etc.) by messaging the teacher and TA(s) on Moodle\n",
    "*   Work on your final project for this course."
   ]
  }
 ],
 "metadata": {
  "colab": {
   "include_colab_link": true,
   "name": "Week_2_Linear&Logistic_Regression.ipynb",
   "provenance": []
  },
  "kernelspec": {
   "display_name": "Python 3 (ipykernel)",
   "language": "python",
   "name": "python3"
  },
  "language_info": {
   "codemirror_mode": {
    "name": "ipython",
    "version": 3
   },
   "file_extension": ".py",
   "mimetype": "text/x-python",
   "name": "python",
   "nbconvert_exporter": "python",
   "pygments_lexer": "ipython3",
   "version": "3.9.7"
  }
 },
 "nbformat": 4,
 "nbformat_minor": 1
}
