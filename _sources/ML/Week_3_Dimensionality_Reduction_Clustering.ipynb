{
  "nbformat": 4,
  "nbformat_minor": 0,
  "metadata": {
    "colab": {
      "provenance": [],
      "include_colab_link": true
    },
    "kernelspec": {
      "name": "python3",
      "display_name": "Python 3"
    },
    "language_info": {
      "name": "python"
    }
  },
  "cells": [
    {
      "cell_type": "markdown",
      "metadata": {
        "id": "view-in-github",
        "colab_type": "text"
      },
      "source": [
        "<a href=\"https://colab.research.google.com/github/tbeucler/2023_MLEES_JB/blob/main/ML_EES/ML/Week_3_Dimensionality_Reduction_Clustering.ipynb\" target=\"_parent\"><img src=\"https://colab.research.google.com/assets/colab-badge.svg\" alt=\"Open In Colab\"/></a>"
      ]
    },
    {
      "cell_type": "markdown",
      "source": [
        "# Unsupervised Learning for Clustering/Dimensionality Reduction and Environmental Complexity"
      ],
      "metadata": {
        "id": "jobt71avnVPS"
      }
    },
    {
      "cell_type": "markdown",
      "source": [
        "For this week's lab, the learning objectives are:\n",
        "\n",
        "1.    Exploring dimensionality reduction and its use in conjunction with other machine learning algorithms\n",
        "\n",
        "2.    Exploring the use of unsupervised clustering algorithms, their advantages, and their limitations\n",
        "\n",
        "3.    Applying clustering algorithms to identify dynamical regimes in oceanic data"
      ],
      "metadata": {
        "id": "5NmnSWj5oAAT"
      }
    },
    {
      "cell_type": "markdown",
      "source": [
        "Today's tutorial:\n",
        "\n",
        "1.    Adapts Géron et al.'s Jupyter notebook exercises for chapters [8](https://github.com/ageron/handson-ml2/blob/master/08_dimensionality_reduction.ipynb) and [9](https://github.com/ageron/handson-ml2/blob/master/09_unsupervised_learning.ipynb) [(License)](https://github.com/ageron/handson-ml2/blob/master/LICENSE) of his book [\"Hands-On Machine Learning with Scikit-Learn, Keras, and TensorFlow, 2nd Edition\"](https://www.oreilly.com/library/view/hands-on-machine-learning/9781492032632/),\n",
        "\n",
        "2.    Adapts two articles on oceanic circulation from [Sonnewald, Wunsch, & Heimbach](https://doi.org/10.1029/2018EA000519) and [Sonnewald & Lguensat](https://doi.org/10.1029/2021MS002496), and Python scripts from [Maike Sonnewald](https://github.com/maikejulie)."
      ],
      "metadata": {
        "id": "ZwIvLOstucNV"
      }
    },
    {
      "cell_type": "markdown",
      "source": [
        "If you are struggling with some of the exercises, do not hesitate to:\n",
        "\n",
        "\n",
        "*   Use a direct Internet search, or [stackoverflow](https://stackoverflow.com/)\n",
        "*   Ask your neighbor(s), the teacher, or the TA for help\n",
        "*   Debug your program, e.g. by following [this tutorial](https://swcarpentry.github.io/python-novice-inflammation/11-debugging/index.html)\n",
        "*   Use assertions, e.g. by following [this tutorial](https://swcarpentry.github.io/python-novice-inflammation/10-defensive/index.html)\n",
        "\n"
      ],
      "metadata": {
        "id": "5kqRUzTLpca0"
      }
    },
    {
      "cell_type": "markdown",
      "source": [
        "You're making a splash!! 💦 😃 💦\n",
        "\n",
        "If you're done early, consider:\n",
        "\n",
        "*   Giving feedback on how to improve this notebook (typos, hints, exercises that may be improved/removed/added, etc.) by messaging the teacher and TA(s) on Moodle\n",
        "*   Working on your final project for this course.\n",
        "\n",
        "**Final Project**\n",
        "The final project’s goal is to answer a well-defined scientific question by applying one of the ML algorithms introduced in class on an environmental dataset of your choice (e.g., related to your Masters thesis or your PhD research).\n",
        "\n",
        "*   Now that you found a large environmental dataset linked to a scientific question you are passionate about, which machine learning algorithm can you use to address it? Is it a classification, a regression, or a data exploration project?\n",
        "*   How could you format the dataset to facilitate its manipulation in Python?\n",
        "*   If you're still hunting for a dataset of interest, consider browsing the [list of benchmark datasets](http://mldata.pangeo.io/index.html) maintained by [Pangeo](https://pangeo.io/) and [Kaggle](https://www.kaggle.com/datasets)!"
      ],
      "metadata": {
        "id": "Pp_t7AeSARlQ"
      }
    }
  ]
}