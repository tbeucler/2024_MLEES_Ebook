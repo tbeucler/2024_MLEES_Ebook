{
 "cells": [
  {
   "cell_type": "markdown",
   "metadata": {
    "colab_type": "text",
    "id": "view-in-github"
   },
   "source": [
    "<a href=\"https://colab.research.google.com/github/tbeucler/2023_MLEES_JB/blob/main/ML_EES/DL/Week_4_Artificial_Neural_Networks.ipynb\" target=\"_parent\"><img src=\"https://colab.research.google.com/assets/colab-badge.svg\" alt=\"Open In Colab\"/></a>"
   ]
  },
  {
   "cell_type": "markdown",
   "metadata": {
    "id": "jobt71avnVPS"
   },
   "source": [
    "#  Artificial Neural Networks and Surrogate Modeling"
   ]
  },
  {
   "cell_type": "markdown",
   "metadata": {
    "id": "0v9OpLZ2_EKQ"
   },
   "source": [
    "Welcome to deep learning: You're flying high! ⛈🌧 😃 🌧⛈"
   ]
  },
  {
   "cell_type": "markdown",
   "metadata": {
    "id": "5NmnSWj5oAAT"
   },
   "source": [
    "For this chapter, the learning objectives are:\n",
    "\n",
    "1.    Training artificial neural networks using [`Keras`](https://keras.io/)'s sequential and functional Application Programming Interfaces.\n",
    "\n",
    "2.    Normalizing and transforming your input data to facilitate deep learning.\n",
    "\n",
    "3.    Implementing callbacks to improve performance and avoid overfitting.\n",
    "\n",
    "4.    Understanding how domain knowledge can improve the generalizability of neural networks."
   ]
  },
  {
   "cell_type": "markdown",
   "metadata": {
    "id": "ZwIvLOstucNV"
   },
   "source": [
    "Today's tutorial:\n",
    "\n",
    "1.    Adapts Géron et al.'s Jupyter notebook exercises for chapters [10](https://github.com/ageron/handson-ml2/blob/master/10_neural_nets_with_keras.ipynb)  [(License)](https://github.com/ageron/handson-ml2/blob/master/LICENSE) of his book [\"Hands-On Machine Learning with Scikit-Learn, Keras, and TensorFlow, 2nd Edition\"](https://www.oreilly.com/library/view/hands-on-machine-learning/9781492032632/),\n",
    "\n",
    "2.    Adapts three articles on climate modeling from [Gentine et al.](https://agupubs.onlinelibrary.wiley.com/doi/full/10.1029/2018GL078202), [Rasp et al.](https://www.pnas.org/doi/10.1073/pnas.1810286115), and [Beucler et al.](https://arxiv.org/pdf/2112.08440), and Python scripts from [Stephan Rasp](https://github.com/raspstephan/CBRAIN-CAM) and [Tom Beucler](https://github.com/tbeucler/CBRAIN-CAM/blob/master/Climate_Invariant_Guide.ipynb)."
   ]
  },
  {
   "cell_type": "markdown",
   "metadata": {
    "id": "5kqRUzTLpca0"
   },
   "source": [
    "If you are struggling with some of the exercises, do not hesitate to:\n",
    "\n",
    "\n",
    "*   Use a direct Internet search, or [stackoverflow](https://stackoverflow.com/)\n",
    "*   Ask your neighbor(s), the teacher, or the TA for help\n",
    "*   Debug your program, e.g. by following [this tutorial](https://swcarpentry.github.io/python-novice-inflammation/11-debugging/index.html)\n",
    "*   Use assertions, e.g. by following [this tutorial](https://swcarpentry.github.io/python-novice-inflammation/10-defensive/index.html)\n",
    "\n"
   ]
  }
 ],
 "metadata": {
  "colab": {
   "include_colab_link": true,
   "provenance": []
  },
  "kernelspec": {
   "display_name": "Python 3 (ipykernel)",
   "language": "python",
   "name": "python3"
  },
  "language_info": {
   "codemirror_mode": {
    "name": "ipython",
    "version": 3
   },
   "file_extension": ".py",
   "mimetype": "text/x-python",
   "name": "python",
   "nbconvert_exporter": "python",
   "pygments_lexer": "ipython3",
   "version": "3.9.7"
  }
 },
 "nbformat": 4,
 "nbformat_minor": 1
}
