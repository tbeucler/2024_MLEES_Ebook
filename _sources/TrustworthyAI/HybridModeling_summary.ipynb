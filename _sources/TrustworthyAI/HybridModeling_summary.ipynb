{
  "nbformat": 4,
  "nbformat_minor": 0,
  "metadata": {
    "colab": {
      "provenance": [],
      "include_colab_link": true
    },
    "kernelspec": {
      "name": "python3",
      "display_name": "Python 3"
    },
    "language_info": {
      "name": "python"
    }
  },
  "cells": [
    {
      "cell_type": "markdown",
      "metadata": {
        "id": "view-in-github",
        "colab_type": "text"
      },
      "source": [
        "<a href=\"https://colab.research.google.com/github/tbeucler/2024_MLEES_Ebook/blob/main/TrustworthyAI/HybridModeling_summary.ipynb\" target=\"_parent\"><img src=\"https://colab.research.google.com/assets/colab-badge.svg\" alt=\"Open In Colab\"/></a>"
      ]
    },
    {
      "cell_type": "markdown",
      "source": [
        "# Hybrid Modeling and Knowledge-Guided Learning\n",
        "\n",
        "Placeholder for Hybrid Modeling summary"
      ],
      "metadata": {
        "id": "bADfe6jMTh7h"
      }
    },
    {
      "cell_type": "code",
      "source": [],
      "metadata": {
        "id": "VDE2HIr3UAJV"
      },
      "execution_count": null,
      "outputs": []
    }
  ]
}