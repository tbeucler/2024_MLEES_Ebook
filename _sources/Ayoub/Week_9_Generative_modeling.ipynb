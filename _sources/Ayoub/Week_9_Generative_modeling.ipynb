{
  "cells": [
    {
      "cell_type": "markdown",
      "metadata": {
        "id": "view-in-github",
        "colab_type": "text"
      },
      "source": [
        "<a href=\"https://colab.research.google.com/github/tbeucler/2024_MLEES_Ebook/blob/main/Ayoub/Week_9_Generative_modeling.ipynb\" target=\"_parent\"><img src=\"https://colab.research.google.com/assets/colab-badge.svg\" alt=\"Open In Colab\"/></a>"
      ]
    },
    {
      "cell_type": "markdown",
      "id": "298f237f-062c-4610-9100-7b62fb7df543",
      "metadata": {
        "id": "298f237f-062c-4610-9100-7b62fb7df543"
      },
      "source": [
        "# (Exercise) Autoencoders, Generative Adversarial Networks, and Diffusion Models"
      ]
    },
    {
      "cell_type": "markdown",
      "id": "9b19d0ad-ed74-465f-ab1e-279c24f3c960",
      "metadata": {
        "id": "9b19d0ad-ed74-465f-ab1e-279c24f3c960"
      },
      "source": [
        "![](https://upload.wikimedia.org/wikipedia/commons/thumb/6/69/Th%C3%A9%C3%A2tre_D%E2%80%99op%C3%A9ra_Spatial.png/920px-Th%C3%A9%C3%A2tre_D%E2%80%99op%C3%A9ra_Spatial.png)\n",
        "\n",
        "Théâtre D'opéra Spatial, 2022 artwork created by Jason M. Allen with Midjourney"
      ]
    }
  ],
  "metadata": {
    "kernelspec": {
      "display_name": "Python 3 (ipykernel)",
      "language": "python",
      "name": "python3"
    },
    "language_info": {
      "codemirror_mode": {
        "name": "ipython",
        "version": 3
      },
      "file_extension": ".py",
      "mimetype": "text/x-python",
      "name": "python",
      "nbconvert_exporter": "python",
      "pygments_lexer": "ipython3",
      "version": "3.11.0"
    },
    "colab": {
      "provenance": [],
      "include_colab_link": true
    }
  },
  "nbformat": 4,
  "nbformat_minor": 5
}