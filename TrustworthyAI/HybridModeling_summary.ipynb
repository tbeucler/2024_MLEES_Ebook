{
  "nbformat": 4,
  "nbformat_minor": 0,
  "metadata": {
    "colab": {
      "provenance": [],
      "include_colab_link": true
    },
    "kernelspec": {
      "name": "python3",
      "display_name": "Python 3"
    },
    "language_info": {
      "name": "python"
    }
  },
  "cells": [
    {
      "cell_type": "markdown",
      "metadata": {
        "id": "view-in-github",
        "colab_type": "text"
      },
      "source": [
        "<a href=\"https://colab.research.google.com/github/tbeucler/2024_MLEES_Ebook/blob/main/TrustworthyAI/HybridModeling_summary.ipynb\" target=\"_parent\"><img src=\"https://colab.research.google.com/assets/colab-badge.svg\" alt=\"Open In Colab\"/></a>"
      ]
    },
    {
      "cell_type": "markdown",
      "source": [
        "# Hybrid Modeling and Knowledge-Guided Learning\n",
        "\n",
        "### Learning Objectives:\n",
        "Welcome to the Hybrid modellig chapter, the learning objectives for this chapter are:\n",
        "\n",
        "1. **How can we model glaciers** with physic-based approach?\n",
        "2. **Understand what hybrid models are** and how they integrate physics-based and ML approaches.\n",
        "3. **Explore the advantages and shortcomings** of using hybrid models.\n",
        "4. **Examine different applications** for combining machine learning and physical models.\n",
        "\n",
        "### Introduction to hybrid modeling\n",
        "Hybrid models combine traditional physics-based models (model-based, MB) with machine learning (ML) to leverage the strengths of both approaches. In purely physics-based models, known equations govern system dynamics, but these models often require detailed domain knowledge and can be limited by the availability of precise parameters. Machine learning, in contrast, can model complex systems without relying on such parameters, making it useful for data-rich but theory-poor domains. However, ML models may struggle to generalize outside the data they are trained on and can produce results that violate known physical laws."
      ],
      "metadata": {
        "id": "bADfe6jMTh7h"
      }
    },
    {
      "cell_type": "code",
      "source": [],
      "metadata": {
        "id": "VDE2HIr3UAJV"
      },
      "execution_count": null,
      "outputs": []
    }
  ]
}