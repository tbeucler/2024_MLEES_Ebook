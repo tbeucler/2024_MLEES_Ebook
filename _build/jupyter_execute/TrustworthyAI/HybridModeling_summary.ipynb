{
 "cells": [
  {
   "cell_type": "markdown",
   "metadata": {
    "colab_type": "text",
    "id": "view-in-github"
   },
   "source": [
    "<a href=\"https://colab.research.google.com/github/tbeucler/2024_MLEES_Ebook/blob/main/TrustworthyAI/HybridModeling_summary.ipynb\" target=\"_parent\"><img src=\"https://colab.research.google.com/assets/colab-badge.svg\" alt=\"Open In Colab\"/></a>"
   ]
  },
  {
   "cell_type": "markdown",
   "metadata": {
    "id": "bADfe6jMTh7h"
   },
   "source": [
    "# Hybrid Modeling and Knowledge-Guided Learning\n",
    "\n",
    "### Learning Objectives:\n",
    "Welcome to the Hybrid Modeling chapter! By the end of this section, you will:\n",
    "\n",
    "1. **Understand glacier modeling** through physics-based approaches.\n",
    "2. **Learn about Knowledge-Guided Machine Learning (KGML) models** and how they seamlessly combine physics-based and ML approaches.\n",
    "3. **Identify the strengths and limitations** of KGML models.\n",
    "4. **Explore various applications** of KGML models in scientific and engineering domains.\n",
    "\n",
    "### Introduction to Hybrid Modeling\n",
    "Hybrid modeling combines the strengths of data-driven Machine Learning (ML) techniques with traditional scientific or physics-based models. This paradigm aims to overcome the limitations of both \"black-box\" ML models and purely theoretical approaches. ML-only models (data-only) are highly effective in commercial applications but often fail in scientific domains due to their inability to generalize well with limited data or adhere to established scientific principles. Conversely, traditional scientific models, while grounded in theory, may be limited by computational inefficiencies or incomplete representations of complex phenomena.\n",
    "\n",
    "\n",
    "\n"
   ]
  },
  {
   "cell_type": "markdown",
   "metadata": {
    "id": "LIfJvmyZJWKp"
   },
   "source": [
    "<center>\n",
    "<img src=\"https://arxiv.org/html/2403.15989v2/x2.png\" width=80%></img>\n",
    "\n",
    "<br> <i> Figure (a) provides a framework to contextualize hybrid modeling within the broader concept of KGML. The horizontal axis illustrates the use of data, while the vertical axis represents reliance on scientific knowledge. </i>\n",
    "</center>\n",
    "\n",
    " Traditional ML approaches emphasize data (lower-right quadrant), whereas scientific models rely solely on domain knowledge (upper-left quadrant). Hybrid modeling—central to KGML—occupies the upper-right quadrant, leveraging both data and theory to create models that are both scientifically consistent and capable of generalizing from data."
   ]
  },
  {
   "cell_type": "markdown",
   "metadata": {
    "id": "vuewDkJ_JFQR"
   },
   "source": [
    "### Why Use KGML Models\n",
    "\n",
    "Scientific problems often demand models that balance predictive power with interpretability and consistency with established knowledge. The need for hybrid models arises from the shortcomings of relying exclusively on data-driven or theory-based methods:\n",
    "\n",
    "#### 1. Limitations of Data-Only (Black-Box) ML Models:\n",
    "- **Poor Generalization:** ML models trained solely on data are prone to overfitting, especially in scientific domains with sparse or incomplete datasets.\n",
    "- **Lack of Scientific Consistency:** These models often produce solutions that violate known scientific laws, leading to scientifically meaningless predictions.\n",
    "- **Inability to Discover New Knowledge:** Black-box models are not equipped to identify governing principles or patterns meaningful in advancing scientific understanding.\n",
    "\n",
    "#### 2. Challenges with Knowledge-Only Models:\n",
    "- **Incomplete Representations:** Scientific models often rely on simplifications and assumptions, which may overlook certain dynamics of the system.\n",
    "- **Computational Expense:** High-fidelity physics-based models are computationally intensive, making them impractical for large-scale or real-time applications.\n",
    "\n",
    "#### 3. The Role of KGML Models\n",
    "KGML models address these challenges by combining the strengths of data-driven learning and theoretical insights. They:\n",
    "- Improve **predictive accuracy** by incorporating physical laws into the learning process.\n",
    "- Enhance **computational efficiency** through surrogate or reduced-order modeling approaches.\n",
    "- Enable **discovery of governing equations** by using data to complement theoretical models."
   ]
  },
  {
   "cell_type": "markdown",
   "metadata": {
    "id": "QaiKU0TzJFeV"
   },
   "source": [
    "\n",
    "### Applications of KGML Models\n",
    "Hybrid models have found applications across numerous fields, including:\n",
    "- **Climate science**: For modeling complex processes like glacier flow, ocean currents, or atmospheric dynamics.\n",
    "- **Engineering**: In systems where physical laws are well-known but ML can help optimize performance or reduce simulation time.\n",
    "- **Medical sciences**: Combining physiological models with ML to predict outcomes in complex biological systems.\n",
    "\n",
    "By blending the predictive power of ML with the robustness of physics-based modeling, KGML models represent a promising approach for advancing our understanding of complex systems."
   ]
  }
 ],
 "metadata": {
  "colab": {
   "include_colab_link": true,
   "provenance": []
  },
  "kernelspec": {
   "display_name": "Python 3",
   "name": "python3"
  },
  "language_info": {
   "codemirror_mode": {
    "name": "ipython",
    "version": 3
   },
   "file_extension": ".py",
   "mimetype": "text/x-python",
   "name": "python",
   "nbconvert_exporter": "python",
   "pygments_lexer": "ipython3",
   "version": "3.9.16"
  }
 },
 "nbformat": 4,
 "nbformat_minor": 0
}